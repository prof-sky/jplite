{
  "metadata": {
    "kernelspec": {
      "name": "python",
      "display_name": "Python (Pyodide)",
      "language": "python"
    },
    "language_info": {
      "codemirror_mode": {
        "name": "python",
        "version": 3
      },
      "file_extension": ".py",
      "mimetype": "text/x-python",
      "name": "python",
      "nbconvert_exporter": "python",
      "pygments_lexer": "ipython3",
      "version": "3.8"
    }
  },
  "nbformat_minor": 4,
  "nbformat": 4,
  "cells": [
    {
      "cell_type": "code",
      "source": "\"\"\"\nDarstellung von Zerlegungen der Schwingungsfunktionen. \nAuch füf das Verständnis der komplexen Zahlenebene an sich/Drehwinkel verwendbar.\n\n(c) Benno Dömer | HS Pforzheim 2023 \n(c) Stefan Kray | HS Pforzheim 2024 \n\n\"\"\"\nimport micropip\nawait micropip.install(\"ipympl\")\n\nimport numpy as np\nimport matplotlib.pyplot as plt\nimport ipywidgets as widgets\nfrom ipywidgets import interact, interact_manual\n%matplotlib widget \n\ndef myplotstyle(ax): # Hilfsfunktion, hübscht den Plot etwas auf\n    ax.spines['right'].set_color('none')\n    ax.spines['top'].set_color('none')\n    ax.xaxis.set_ticks_position('bottom')\n    ax.spines['bottom'].set_position(('data',0))\n    ax.yaxis.set_ticks_position('left')\n    ax.spines['left'].set_position(('data',0))\n\n@interact_manual(t=(0,1,0.1))\ndef plotdata(t):\n    fig, ax= plt.subplots(figsize=(5, 5), dpi=100, layout='constrained',num='Schwingung mit f=1 Hz')\n    ymax = 1.25\n    \n    kx=np.linspace(-4*np.pi,4*np.pi,100)\n    omega = 2 * np.pi * 1  # f=1\n    phi = kx+omega*t\n    phi0=0+omega*t\n\n    # cos\n    ax = plt.subplot(2, 2, 1)\n    ax.cla() \n    #ax.plot(np.cos(tx * omega), tx, ':b', np.cos(tc * omega), tc, 'b', np.cos(t * omega), t, 'ok')  # Cos-Projektion oben\n    ax.plot(np.cos(phi),kx, 'b')\n    ax.plot(np.cos(phi0),0, 'ok')\n    ax.set_xlabel(r'$cos(kx-\\omega t)$',loc='right')\n    ax.set_ylabel('kx', loc='top')\n    myplotstyle(ax)\n    ax.set_xlim(-ymax, ymax)\n\n    # sin\n    ax = plt.subplot(2, 2, 4)\n    ax.cla()\n    ax.plot(kx,np.sin(phi), 'r')\n    ax.plot(0,np.sin(phi0), 'ok')\n    ax.set_ylabel(r'$sin(kx-\\omega t)$',loc='top')\n    ax.set_xlabel('kx', loc='right')\n    myplotstyle(ax)\n\n    #Kreis\n    ax = plt.subplot(2, 2, 3)\n    ax.cla()\n    phi = t * 2  # Winkel\n    \n    kx=np.linspace(0,2*np.pi)\n    phi=kx+omega*t\n    phi0=0+omega*t\n    ax.plot(np.cos(phi),np.sin(phi), ':k')\n    #ax.plot(0.4 * np.cos(tc * 2 * np.pi), 0.4 * np.sin(tc * 2 * np.pi), 'm')  # einen Kreis malen\n    ax.set_xlabel('Re', loc='right')\n    ax.set_ylabel('Im', loc='top')\n    ax.plot([0, np.cos(phi0)], [0, np.sin(phi0)], '-k')\n    ax.plot(np.cos(phi0), np.sin(phi0), 'ok')\n    #ax.plot([0, np.cos(phi)], [0, np.sin(phi)], '-k', np.cos(phi), np.sin(phi), 'ok')\n            #[0, np.cos(t * 2 * np.pi)], [0, 0], 'b', [np.cos(t * 2 * np.pi), np.cos(t * 2 * np.pi)], [0, np.sin(t * 2 * np.pi)], 'r')\n    #ax.text(0.3, 1.05, r'$\\phi=$' + f'{phi:.2f}' + r'$\\cdot \\pi$', color='m')\n    ax.set_xlim(-ymax, ymax)\n    ax.set_ylim(-ymax, ymax)\n    myplotstyle(ax)\n\n    fig.canvas.draw()\n    fig.show()\n\n#plotdata(0.1)",
      "metadata": {
        "trusted": true
      },
      "outputs": [
        {
          "output_type": "display_data",
          "data": {
            "text/plain": "interactive(children=(FloatSlider(value=0.0, description='t', max=1.0), Button(description='Run Interact', sty…",
            "application/vnd.jupyter.widget-view+json": {
              "version_major": 2,
              "version_minor": 0,
              "model_id": "c24118dbc31d4cd6bd5288efb6468ae7"
            }
          },
          "metadata": {}
        }
      ],
      "execution_count": 80
    },
    {
      "cell_type": "code",
      "source": "",
      "metadata": {
        "trusted": true
      },
      "outputs": [],
      "execution_count": null
    },
    {
      "cell_type": "code",
      "source": "",
      "metadata": {
        "trusted": true
      },
      "outputs": [],
      "execution_count": null
    }
  ]
}