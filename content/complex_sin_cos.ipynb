{
  "metadata": {
    "kernelspec": {
      "name": "python",
      "display_name": "Python (Pyodide)",
      "language": "python"
    },
    "language_info": {
      "codemirror_mode": {
        "name": "python",
        "version": 3
      },
      "file_extension": ".py",
      "mimetype": "text/x-python",
      "name": "python",
      "nbconvert_exporter": "python",
      "pygments_lexer": "ipython3",
      "version": "3.8"
    }
  },
  "nbformat_minor": 4,
  "nbformat": 4,
  "cells": [
    {
      "cell_type": "code",
      "source": "\"\"\"\nDarstellung von Zerlegungen der Schwingungsfunktionen. \nAuch füf das Verständnis der komplexen Zahlenebene an sich/Drehwinkel verwendbar.\n\n(c) Benno Dömer | HS Pforzheim 2023 \n(c) Stefan Kray | HS Pforzheim 2024 \n\n\"\"\"\nimport micropip\nawait micropip.install(\"ipympl\")\n\n%matplotlib widget \n# Import so, dass möglichst viele Funktionen \"wie in Matlab\" zur Verfügung stehen:\nfrom numpy import (pi, log10, exp, sqrt, sin, cos, tan, angle, arange, linspace, zeros, ones) # numpy für's Rechnen, bei Bedarf anpassen\nimport matplotlib.pyplot as plt\nfrom matplotlib.pyplot import (figure, plot, stem, legend, text,  \n                               grid, xlabel, ylabel, subplot, title, clf, cla, xlim, ylim) # matpotlib für's  Plotten, bei Bedarf anpassen\nimport ipywidgets as widgets\nfrom ipywidgets import interact, interactive, fixed, interact_manual\n\n\ndef myplotstyle(ax): # Hilfsfunktion, hübscht den Plot etwas auf\n    ax.spines['right'].set_color('none')\n    ax.spines['top'].set_color('none')\n    ax.xaxis.set_ticks_position('bottom')\n    ax.spines['bottom'].set_position(('data',0))\n    ax.yaxis.set_ticks_position('left')\n    ax.spines['left'].set_position(('data',0))\n\n#fig = figure(figsize=(5, 5), dpi=100, layout='constrained',num='Fig1') # bei Bedarf anpassen, Achtung Tablet: Nicht über 7 Breite;\nfig, ax= plt.subplots(figsize=(5, 5), dpi=100, layout='constrained',num='Schwingung mit f=1 Hz')\ntslider1  = widgets.FloatSlider(min=0, max=2, step=0.025, value=0.125, continuous_update=True, description='t/s')\n\n@interact_manual(t=tslider1)\ndef plotdata(t):\n    figure(fig)\n    ymax = 1.25\n    omega = 2 * pi * 1 # f=1\n    tx = arange(0,2,0.01); #Matlab: tx=0:0.01:2;\n    tc = arange(0,t,0.01); #Matlab: tx=0:0.01:t;\n    \n    ax = subplot(2,2,1)\n    cla()#matplotlib löscht den Plot nicht, \"hold on\"-Verhalten => explizit löschen \n    plot(cos(tx*omega),tx,':b',cos(tc*omega),tc,'b',cos(t*omega),t,'ok') # Cos-Projektion oben\n    ax.text(-1,.1,rf'{cos(t*omega):.2f}',color='b')\n    xlabel(r'$cos(\\omega t)$')\n    ylabel('t',loc='top')\n    myplotstyle(ax)\n    xlim(-ymax,ymax)\n    ylim(0,2)\n    \n    ax = subplot(2,2,4)\n    cla()\n    plot(tx,sin(tx*omega),':r',tc,sin(tc*omega),'r',t,sin(t*omega),'ok') # Sin-Projektion rechts\n    ax.text(0.5,1,f'{sin(t*omega):.2f}',color='r')\n    ylim(-ymax, ymax)\n    ylabel(r'$sin(\\omega t)$')\n    xlabel('t',loc='right')\n    myplotstyle(ax)\n\n    ax = subplot(2,2,3)\n    cla()\n    phi = t*2 # Winkel\n    plot(cos(tx*pi),sin(tx*pi),':k',cos(tc*2*pi),sin(tc*2*pi),'k')\n    plot(0.4*cos(tc*2*pi),0.4*sin(tc*2*pi),'m') # einen Kreis malen\n    xlabel('Re',loc='right')\n    ylabel('Im',loc='top')\n    plot([0,cos(omega*t)],[0,sin(omega*t)],'-k',cos(omega*t),sin(omega*t),'ok',\n        [0,cos(t*2*pi)],[0,0],'b',[cos(t*2*pi),cos(t*2*pi)],[0,sin(t*2*pi)],'r')\n    #    [0,cos(omega*t)],[0,-sin(omega*t)],'--k',cos(omega*t),-sin(omega*t),'ok') # Zeiger zeichnen\n    ax.text(0.3,1.05,r'$\\phi=$'+f'{phi:.2f}'+r'$\\cdot \\pi$',color='m')\n    xlim(-ymax,ymax)\n    ylim(-ymax,ymax)\n    \n    myplotstyle(ax)\n    fig.canvas.draw()\n    fig.show()",
      "metadata": {
        "trusted": true
      },
      "outputs": [
        {
          "output_type": "display_data",
          "data": {
            "text/plain": "interactive(children=(FloatSlider(value=0.125, description='t/s', max=2.0, step=0.025), Button(description='Ru…",
            "application/vnd.jupyter.widget-view+json": {
              "version_major": 2,
              "version_minor": 0,
              "model_id": "55494c4b8bf44ee39bd4aec890961788"
            }
          },
          "metadata": {}
        }
      ],
      "execution_count": 1
    },
    {
      "cell_type": "code",
      "source": "",
      "metadata": {
        "trusted": true
      },
      "outputs": [],
      "execution_count": null
    },
    {
      "cell_type": "code",
      "source": "",
      "metadata": {
        "trusted": true
      },
      "outputs": [],
      "execution_count": null
    }
  ]
}